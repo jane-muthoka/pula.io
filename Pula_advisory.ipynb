{
 "cells": [
  {
   "cell_type": "markdown",
   "id": "0da3d3bc",
   "metadata": {},
   "source": [
    "## Setting up my Environment\n",
    "### This being assesment test, i'll only focus on the deliverables because of time"
   ]
  },
  {
   "cell_type": "code",
   "execution_count": 1,
   "id": "bb7bffdf",
   "metadata": {},
   "outputs": [],
   "source": [
    "import pandas as pd\n",
    "import numpy as np\n",
    "import seaborn as sns\n",
    "import matplotlib.pyplot as plt\n",
    "%matplotlib inline"
   ]
  },
  {
   "cell_type": "code",
   "execution_count": 2,
   "id": "ae6eedfa",
   "metadata": {},
   "outputs": [],
   "source": [
    "#load the data and ensure you replace the path\n",
    "#converted the data to csv file and droped first 2 columns\n",
    "data=pd.read_csv('Junior Data Analyst _ Data.xlsx - Raw Data.csv')"
   ]
  },
  {
   "cell_type": "code",
   "execution_count": 3,
   "id": "aa7d16e7",
   "metadata": {},
   "outputs": [
    {
     "data": {
      "text/html": [
       "<div>\n",
       "<style scoped>\n",
       "    .dataframe tbody tr th:only-of-type {\n",
       "        vertical-align: middle;\n",
       "    }\n",
       "\n",
       "    .dataframe tbody tr th {\n",
       "        vertical-align: top;\n",
       "    }\n",
       "\n",
       "    .dataframe thead th {\n",
       "        text-align: right;\n",
       "    }\n",
       "</style>\n",
       "<table border=\"1\" class=\"dataframe\">\n",
       "  <thead>\n",
       "    <tr style=\"text-align: right;\">\n",
       "      <th></th>\n",
       "      <th>Hour</th>\n",
       "      <th>Date/hour start</th>\n",
       "      <th>Solar electricity generation (kWh)</th>\n",
       "      <th>Electricity usage (kWh)</th>\n",
       "    </tr>\n",
       "  </thead>\n",
       "  <tbody>\n",
       "    <tr>\n",
       "      <th>0</th>\n",
       "      <td>0</td>\n",
       "      <td>1/1/20 0:00</td>\n",
       "      <td>0.0</td>\n",
       "      <td>1.5098490</td>\n",
       "    </tr>\n",
       "    <tr>\n",
       "      <th>1</th>\n",
       "      <td>1</td>\n",
       "      <td>1/1/20 1:00</td>\n",
       "      <td>0.0</td>\n",
       "      <td>1.4118588</td>\n",
       "    </tr>\n",
       "    <tr>\n",
       "      <th>2</th>\n",
       "      <td>2</td>\n",
       "      <td>1/1/20 2:00</td>\n",
       "      <td>0.0</td>\n",
       "      <td>1.0238976</td>\n",
       "    </tr>\n",
       "    <tr>\n",
       "      <th>3</th>\n",
       "      <td>3</td>\n",
       "      <td>1/1/20 3:00</td>\n",
       "      <td>0.0</td>\n",
       "      <td>0.6420000</td>\n",
       "    </tr>\n",
       "    <tr>\n",
       "      <th>4</th>\n",
       "      <td>4</td>\n",
       "      <td>1/1/20 4:00</td>\n",
       "      <td>0.0</td>\n",
       "      <td>0.9600000</td>\n",
       "    </tr>\n",
       "  </tbody>\n",
       "</table>\n",
       "</div>"
      ],
      "text/plain": [
       "   Hour Date/hour start  Solar electricity generation (kWh)  \\\n",
       "0     0     1/1/20 0:00                                 0.0   \n",
       "1     1     1/1/20 1:00                                 0.0   \n",
       "2     2     1/1/20 2:00                                 0.0   \n",
       "3     3     1/1/20 3:00                                 0.0   \n",
       "4     4     1/1/20 4:00                                 0.0   \n",
       "\n",
       "  Electricity usage (kWh)  \n",
       "0              1.5098490   \n",
       "1              1.4118588   \n",
       "2              1.0238976   \n",
       "3              0.6420000   \n",
       "4              0.9600000   "
      ]
     },
     "execution_count": 3,
     "metadata": {},
     "output_type": "execute_result"
    }
   ],
   "source": [
    "data.head()"
   ]
  },
  {
   "cell_type": "code",
   "execution_count": null,
   "id": "136ce74c",
   "metadata": {},
   "outputs": [],
   "source": []
  },
  {
   "cell_type": "markdown",
   "id": "661366c8",
   "metadata": {},
   "source": [
    "* The electricity usage(kwh) needs to be changed from object to float\n",
    "* 2020 is a leap year so i expected 8784hrs instead of 8760"
   ]
  },
  {
   "cell_type": "code",
   "execution_count": 4,
   "id": "b32f783f",
   "metadata": {},
   "outputs": [
    {
     "name": "stdout",
     "output_type": "stream",
     "text": [
      "<class 'pandas.core.frame.DataFrame'>\n",
      "RangeIndex: 8760 entries, 0 to 8759\n",
      "Data columns (total 4 columns):\n",
      " #   Column                              Non-Null Count  Dtype  \n",
      "---  ------                              --------------  -----  \n",
      " 0   Hour                                8760 non-null   int64  \n",
      " 1   Date/hour start                     8760 non-null   object \n",
      " 2   Solar electricity generation (kWh)  8760 non-null   float64\n",
      " 3   Electricity usage (kWh)             8760 non-null   object \n",
      "dtypes: float64(1), int64(1), object(2)\n",
      "memory usage: 273.9+ KB\n"
     ]
    }
   ],
   "source": [
    "data.info()"
   ]
  },
  {
   "cell_type": "code",
   "execution_count": 5,
   "id": "6abb8599",
   "metadata": {},
   "outputs": [],
   "source": [
    "# Clean the data: Remove commas and convert to float\n",
    "data['Electricity usage (kWh)'] = data['Electricity usage (kWh)'].str.replace(',', '').astype(float)\n"
   ]
  },
  {
   "cell_type": "markdown",
   "id": "49e6337e",
   "metadata": {},
   "source": [
    "* There are outliers since the max is way greater than the 75%"
   ]
  },
  {
   "cell_type": "code",
   "execution_count": 6,
   "id": "3d3488bb",
   "metadata": {},
   "outputs": [
    {
     "data": {
      "text/html": [
       "<div>\n",
       "<style scoped>\n",
       "    .dataframe tbody tr th:only-of-type {\n",
       "        vertical-align: middle;\n",
       "    }\n",
       "\n",
       "    .dataframe tbody tr th {\n",
       "        vertical-align: top;\n",
       "    }\n",
       "\n",
       "    .dataframe thead th {\n",
       "        text-align: right;\n",
       "    }\n",
       "</style>\n",
       "<table border=\"1\" class=\"dataframe\">\n",
       "  <thead>\n",
       "    <tr style=\"text-align: right;\">\n",
       "      <th></th>\n",
       "      <th>Hour</th>\n",
       "      <th>Solar electricity generation (kWh)</th>\n",
       "      <th>Electricity usage (kWh)</th>\n",
       "    </tr>\n",
       "  </thead>\n",
       "  <tbody>\n",
       "    <tr>\n",
       "      <th>count</th>\n",
       "      <td>8760.000000</td>\n",
       "      <td>8760.000000</td>\n",
       "      <td>8760.000000</td>\n",
       "    </tr>\n",
       "    <tr>\n",
       "      <th>mean</th>\n",
       "      <td>11.500000</td>\n",
       "      <td>1.116750</td>\n",
       "      <td>7.312704</td>\n",
       "    </tr>\n",
       "    <tr>\n",
       "      <th>std</th>\n",
       "      <td>6.922582</td>\n",
       "      <td>2.026098</td>\n",
       "      <td>491.479806</td>\n",
       "    </tr>\n",
       "    <tr>\n",
       "      <th>min</th>\n",
       "      <td>0.000000</td>\n",
       "      <td>0.000000</td>\n",
       "      <td>-12.624000</td>\n",
       "    </tr>\n",
       "    <tr>\n",
       "      <th>25%</th>\n",
       "      <td>5.750000</td>\n",
       "      <td>0.000000</td>\n",
       "      <td>0.300000</td>\n",
       "    </tr>\n",
       "    <tr>\n",
       "      <th>50%</th>\n",
       "      <td>11.500000</td>\n",
       "      <td>0.024000</td>\n",
       "      <td>0.621000</td>\n",
       "    </tr>\n",
       "    <tr>\n",
       "      <th>75%</th>\n",
       "      <td>17.250000</td>\n",
       "      <td>1.272750</td>\n",
       "      <td>1.686000</td>\n",
       "    </tr>\n",
       "    <tr>\n",
       "      <th>max</th>\n",
       "      <td>23.000000</td>\n",
       "      <td>13.050000</td>\n",
       "      <td>46000.000000</td>\n",
       "    </tr>\n",
       "  </tbody>\n",
       "</table>\n",
       "</div>"
      ],
      "text/plain": [
       "              Hour  Solar electricity generation (kWh)  \\\n",
       "count  8760.000000                         8760.000000   \n",
       "mean     11.500000                            1.116750   \n",
       "std       6.922582                            2.026098   \n",
       "min       0.000000                            0.000000   \n",
       "25%       5.750000                            0.000000   \n",
       "50%      11.500000                            0.024000   \n",
       "75%      17.250000                            1.272750   \n",
       "max      23.000000                           13.050000   \n",
       "\n",
       "       Electricity usage (kWh)  \n",
       "count              8760.000000  \n",
       "mean                  7.312704  \n",
       "std                 491.479806  \n",
       "min                 -12.624000  \n",
       "25%                   0.300000  \n",
       "50%                   0.621000  \n",
       "75%                   1.686000  \n",
       "max               46000.000000  "
      ]
     },
     "execution_count": 6,
     "metadata": {},
     "output_type": "execute_result"
    }
   ],
   "source": [
    "data.describe()"
   ]
  },
  {
   "cell_type": "code",
   "execution_count": 7,
   "id": "29d37177",
   "metadata": {},
   "outputs": [
    {
     "name": "stdout",
     "output_type": "stream",
     "text": [
      "Values above the 95th percentile: 438\n",
      "Values below or equal to the 95th percentile: 8322\n"
     ]
    }
   ],
   "source": [
    "# Calculate the 95th percentile\n",
    "percentile_95 = data['Electricity usage (kWh)'].quantile(0.95)\n",
    "\n",
    "# Count values above and below the 75th percentile\n",
    "values_above_95 = data[data['Electricity usage (kWh)'] > percentile_95]\n",
    "values_below_95 = data[data['Electricity usage (kWh)'] <= percentile_95]\n",
    "\n",
    "# Print the counts\n",
    "print(\"Values above the 95th percentile:\", len(values_above_95))\n",
    "print(\"Values below or equal to the 95th percentile:\", len(values_below_95))"
   ]
  },
  {
   "cell_type": "markdown",
   "id": "81b17aa9",
   "metadata": {},
   "source": [
    "* Before we decide what to do with the outliers,lets continue exploring the data\n",
    "* I chose not to drop the outliers"
   ]
  },
  {
   "cell_type": "code",
   "execution_count": 8,
   "id": "c222a3ce",
   "metadata": {},
   "outputs": [
    {
     "data": {
      "text/plain": [
       "False"
      ]
     },
     "execution_count": 8,
     "metadata": {},
     "output_type": "execute_result"
    }
   ],
   "source": [
    "data.duplicated().any()\n",
    "#no duplicates"
   ]
  },
  {
   "cell_type": "code",
   "execution_count": 9,
   "id": "6336e03d",
   "metadata": {},
   "outputs": [
    {
     "data": {
      "text/plain": [
       "Hour                                  False\n",
       "Date/hour start                       False\n",
       "Solar electricity generation (kWh)    False\n",
       "Electricity usage (kWh)               False\n",
       "dtype: bool"
      ]
     },
     "execution_count": 9,
     "metadata": {},
     "output_type": "execute_result"
    }
   ],
   "source": [
    "data.isnull().any()\n",
    "#no nulls"
   ]
  },
  {
   "cell_type": "markdown",
   "id": "778f0fc0",
   "metadata": {},
   "source": [
    "## Deliverable1\n",
    "* creating a graph showing the average solar electricity generation and average electricity usage for each hour in a day"
   ]
  },
  {
   "cell_type": "code",
   "execution_count": 10,
   "id": "c5f65982",
   "metadata": {},
   "outputs": [
    {
     "data": {
      "image/png": "[encoded data removed]",
      "text/plain": [
       "<Figure size 640x480 with 1 Axes>"
      ]
     },
     "metadata": {},
     "output_type": "display_data"
    }
   ],
   "source": [
    "# Data visualization\n",
    "avg_hourly_data = data.groupby('Hour').mean()\n",
    "plt.plot(avg_hourly_data['Solar electricity generation (kWh)'], label='Average Solar Generation')\n",
    "plt.plot(avg_hourly_data['Electricity usage (kWh)'], label='Average Electricity Usage')\n",
    "plt.xlabel('Hour')\n",
    "plt.ylabel('Energy (kWh)')\n",
    "plt.title('Average Solar Generation and Electricity Usage by Hour')\n",
    "plt.legend()\n",
    "# Save the plot to a file\n",
    "plt.savefig('average_generation_usage_plot.png')"
   ]
  },
  {
   "cell_type": "markdown",
   "id": "ea8c72f2",
   "metadata": {},
   "source": [
    "## Calculation deliverables"
   ]
  },
  {
   "cell_type": "code",
   "execution_count": 11,
   "id": "73fec6a5",
   "metadata": {},
   "outputs": [
    {
     "name": "stdout",
     "output_type": "stream",
     "text": [
      "      Date/hour start  ElectricityNeeded  ExcessSolarGeneration  \\\n",
      "0 2020-01-01 00:00:00           1.509849                    0.0   \n",
      "1 2020-01-01 01:00:00           1.411859                    0.0   \n",
      "2 2020-01-01 02:00:00           1.023898                    0.0   \n",
      "3 2020-01-01 03:00:00           0.642000                    0.0   \n",
      "4 2020-01-01 04:00:00           0.960000                    0.0   \n",
      "\n",
      "   BatteryCharge  ElectricityPurchasedWithBattery  SavingsWithBattery  \n",
      "0            0.0                         1.509849            0.256674  \n",
      "1            0.0                         1.411859            0.240016  \n",
      "2            0.0                         1.023898            0.174063  \n",
      "3            0.0                         0.642000            0.109140  \n",
      "4            0.0                         0.960000            0.163200  \n"
     ]
    },
    {
     "data": {
      "image/png": "[encoded data removed]",
      "text/plain": [
       "<Figure size 1000x600 with 1 Axes>"
      ]
     },
     "metadata": {},
     "output_type": "display_data"
    }
   ],
   "source": [
    "#convert to datetime formart\n",
    "data['Date/hour start'] = pd.to_datetime(data['Date/hour start'])\n",
    "\n",
    "# Calculate electricity needed to be bought from the electricity provider\n",
    "data['ElectricityNeeded'] = data['Electricity usage (kWh)'] - data['Solar electricity generation (kWh)']\n",
    "data['ElectricityNeeded'] = data['ElectricityNeeded'].clip(lower=0)  # Set negative values to zero\n",
    "\n",
    "# Calculate excess solar electricity generated\n",
    "data['ExcessSolarGeneration'] = data['Solar electricity generation (kWh)'] - data['Electricity usage (kWh)']\n",
    "data['ExcessSolarGeneration'] = data['ExcessSolarGeneration'].clip(lower=0)  # Set negative values to zero\n",
    "\n",
    "# Model cumulative battery charge\n",
    "battery_capacity = 12.5 #in kwh  \n",
    "data['BatteryCharge'] = 0\n",
    "for index, row in data.iterrows():\n",
    "    if index > 0:\n",
    "        data.at[index, 'BatteryCharge'] = min(data.at[index - 1, 'BatteryCharge'] + row['ExcessSolarGeneration'], battery_capacity)\n",
    "\n",
    "# Calculate electricity purchased when battery is charged\n",
    "data['ElectricityPurchasedWithBattery'] = data['ElectricityNeeded'] - data['BatteryCharge']\n",
    "\n",
    "# Calculate savings with battery\n",
    "electricity_price = 0.17  # $/kWh\n",
    "data['SavingsWithBattery'] = data['ElectricityPurchasedWithBattery'] * electricity_price\n",
    "\n",
    "# Group data by month\n",
    "data['Month'] = data['Date/hour start'].dt.month\n",
    "monthly_data = data.groupby('Month').sum()\n",
    "\n",
    "# Create a chart for monthly data\n",
    "plt.figure(figsize=(10, 6))\n",
    "plt.plot(monthly_data.index, monthly_data['Solar electricity generation (kWh)'], label='Solar Generation')\n",
    "plt.plot(monthly_data.index, monthly_data['Electricity usage (kWh)'], label='Electricity Usage')\n",
    "plt.plot(monthly_data.index, monthly_data['ElectricityNeeded'], label='Electricity Purchased (No Battery)')\n",
    "plt.plot(monthly_data.index, monthly_data['ElectricityPurchasedWithBattery'], label='Electricity Purchased (With Battery)')\n",
    "plt.xlabel('Month')\n",
    "plt.ylabel('kWh')\n",
    "plt.title('Monthly Energy Data')\n",
    "plt.legend()\n",
    "plt.xticks(range(1, 13), ['Jan', 'Feb', 'Mar', 'Apr', 'May', 'Jun', 'Jul', 'Aug', 'Sep', 'Oct', 'Nov', 'Dec'])\n",
    "# Save the plot to a file\n",
    "plt.savefig('chart.png')\n",
    "\n",
    "# Print some summary data\n",
    "print(data[['Date/hour start', 'ElectricityNeeded', 'ExcessSolarGeneration', 'BatteryCharge', 'ElectricityPurchasedWithBattery', 'SavingsWithBattery']].head())\n"
   ]
  },
  {
   "cell_type": "code",
   "execution_count": 12,
   "id": "740b706b",
   "metadata": {},
   "outputs": [
    {
     "data": {
      "text/html": [
       "<div>\n",
       "<style scoped>\n",
       "    .dataframe tbody tr th:only-of-type {\n",
       "        vertical-align: middle;\n",
       "    }\n",
       "\n",
       "    .dataframe tbody tr th {\n",
       "        vertical-align: top;\n",
       "    }\n",
       "\n",
       "    .dataframe thead th {\n",
       "        text-align: right;\n",
       "    }\n",
       "</style>\n",
       "<table border=\"1\" class=\"dataframe\">\n",
       "  <thead>\n",
       "    <tr style=\"text-align: right;\">\n",
       "      <th></th>\n",
       "      <th>Hour</th>\n",
       "      <th>Date/hour start</th>\n",
       "      <th>Solar electricity generation (kWh)</th>\n",
       "      <th>Electricity usage (kWh)</th>\n",
       "      <th>ElectricityNeeded</th>\n",
       "      <th>ExcessSolarGeneration</th>\n",
       "      <th>BatteryCharge</th>\n",
       "      <th>ElectricityPurchasedWithBattery</th>\n",
       "      <th>SavingsWithBattery</th>\n",
       "      <th>Month</th>\n",
       "    </tr>\n",
       "  </thead>\n",
       "  <tbody>\n",
       "    <tr>\n",
       "      <th>0</th>\n",
       "      <td>0</td>\n",
       "      <td>2020-01-01 00:00:00</td>\n",
       "      <td>0.000</td>\n",
       "      <td>1.509849</td>\n",
       "      <td>1.509849</td>\n",
       "      <td>0.0</td>\n",
       "      <td>0.0</td>\n",
       "      <td>1.509849</td>\n",
       "      <td>0.256674</td>\n",
       "      <td>1</td>\n",
       "    </tr>\n",
       "    <tr>\n",
       "      <th>1</th>\n",
       "      <td>1</td>\n",
       "      <td>2020-01-01 01:00:00</td>\n",
       "      <td>0.000</td>\n",
       "      <td>1.411859</td>\n",
       "      <td>1.411859</td>\n",
       "      <td>0.0</td>\n",
       "      <td>0.0</td>\n",
       "      <td>1.411859</td>\n",
       "      <td>0.240016</td>\n",
       "      <td>1</td>\n",
       "    </tr>\n",
       "    <tr>\n",
       "      <th>2</th>\n",
       "      <td>2</td>\n",
       "      <td>2020-01-01 02:00:00</td>\n",
       "      <td>0.000</td>\n",
       "      <td>1.023898</td>\n",
       "      <td>1.023898</td>\n",
       "      <td>0.0</td>\n",
       "      <td>0.0</td>\n",
       "      <td>1.023898</td>\n",
       "      <td>0.174063</td>\n",
       "      <td>1</td>\n",
       "    </tr>\n",
       "    <tr>\n",
       "      <th>3</th>\n",
       "      <td>3</td>\n",
       "      <td>2020-01-01 03:00:00</td>\n",
       "      <td>0.000</td>\n",
       "      <td>0.642000</td>\n",
       "      <td>0.642000</td>\n",
       "      <td>0.0</td>\n",
       "      <td>0.0</td>\n",
       "      <td>0.642000</td>\n",
       "      <td>0.109140</td>\n",
       "      <td>1</td>\n",
       "    </tr>\n",
       "    <tr>\n",
       "      <th>4</th>\n",
       "      <td>4</td>\n",
       "      <td>2020-01-01 04:00:00</td>\n",
       "      <td>0.000</td>\n",
       "      <td>0.960000</td>\n",
       "      <td>0.960000</td>\n",
       "      <td>0.0</td>\n",
       "      <td>0.0</td>\n",
       "      <td>0.960000</td>\n",
       "      <td>0.163200</td>\n",
       "      <td>1</td>\n",
       "    </tr>\n",
       "    <tr>\n",
       "      <th>...</th>\n",
       "      <td>...</td>\n",
       "      <td>...</td>\n",
       "      <td>...</td>\n",
       "      <td>...</td>\n",
       "      <td>...</td>\n",
       "      <td>...</td>\n",
       "      <td>...</td>\n",
       "      <td>...</td>\n",
       "      <td>...</td>\n",
       "      <td>...</td>\n",
       "    </tr>\n",
       "    <tr>\n",
       "      <th>8755</th>\n",
       "      <td>19</td>\n",
       "      <td>2020-12-31 19:00:00</td>\n",
       "      <td>0.012</td>\n",
       "      <td>4.395600</td>\n",
       "      <td>4.383600</td>\n",
       "      <td>0.0</td>\n",
       "      <td>12.5</td>\n",
       "      <td>-8.116400</td>\n",
       "      <td>-1.379788</td>\n",
       "      <td>12</td>\n",
       "    </tr>\n",
       "    <tr>\n",
       "      <th>8756</th>\n",
       "      <td>20</td>\n",
       "      <td>2020-12-31 20:00:00</td>\n",
       "      <td>0.003</td>\n",
       "      <td>4.560600</td>\n",
       "      <td>4.557600</td>\n",
       "      <td>0.0</td>\n",
       "      <td>12.5</td>\n",
       "      <td>-7.942400</td>\n",
       "      <td>-1.350208</td>\n",
       "      <td>12</td>\n",
       "    </tr>\n",
       "    <tr>\n",
       "      <th>8757</th>\n",
       "      <td>21</td>\n",
       "      <td>2020-12-31 21:00:00</td>\n",
       "      <td>0.000</td>\n",
       "      <td>2.022000</td>\n",
       "      <td>2.022000</td>\n",
       "      <td>0.0</td>\n",
       "      <td>12.5</td>\n",
       "      <td>-10.478000</td>\n",
       "      <td>-1.781260</td>\n",
       "      <td>12</td>\n",
       "    </tr>\n",
       "    <tr>\n",
       "      <th>8758</th>\n",
       "      <td>22</td>\n",
       "      <td>2020-12-31 22:00:00</td>\n",
       "      <td>0.015</td>\n",
       "      <td>1.668000</td>\n",
       "      <td>1.653000</td>\n",
       "      <td>0.0</td>\n",
       "      <td>12.5</td>\n",
       "      <td>-10.847000</td>\n",
       "      <td>-1.843990</td>\n",
       "      <td>12</td>\n",
       "    </tr>\n",
       "    <tr>\n",
       "      <th>8759</th>\n",
       "      <td>23</td>\n",
       "      <td>2020-12-31 23:00:00</td>\n",
       "      <td>0.000</td>\n",
       "      <td>0.805919</td>\n",
       "      <td>0.805919</td>\n",
       "      <td>0.0</td>\n",
       "      <td>12.5</td>\n",
       "      <td>-11.694081</td>\n",
       "      <td>-1.987994</td>\n",
       "      <td>12</td>\n",
       "    </tr>\n",
       "  </tbody>\n",
       "</table>\n",
       "<p>8760 rows × 10 columns</p>\n",
       "</div>"
      ],
      "text/plain": [
       "      Hour     Date/hour start  Solar electricity generation (kWh)  \\\n",
       "0        0 2020-01-01 00:00:00                               0.000   \n",
       "1        1 2020-01-01 01:00:00                               0.000   \n",
       "2        2 2020-01-01 02:00:00                               0.000   \n",
       "3        3 2020-01-01 03:00:00                               0.000   \n",
       "4        4 2020-01-01 04:00:00                               0.000   \n",
       "...    ...                 ...                                 ...   \n",
       "8755    19 2020-12-31 19:00:00                               0.012   \n",
       "8756    20 2020-12-31 20:00:00                               0.003   \n",
       "8757    21 2020-12-31 21:00:00                               0.000   \n",
       "8758    22 2020-12-31 22:00:00                               0.015   \n",
       "8759    23 2020-12-31 23:00:00                               0.000   \n",
       "\n",
       "      Electricity usage (kWh)  ElectricityNeeded  ExcessSolarGeneration  \\\n",
       "0                    1.509849           1.509849                    0.0   \n",
       "1                    1.411859           1.411859                    0.0   \n",
       "2                    1.023898           1.023898                    0.0   \n",
       "3                    0.642000           0.642000                    0.0   \n",
       "4                    0.960000           0.960000                    0.0   \n",
       "...                       ...                ...                    ...   \n",
       "8755                 4.395600           4.383600                    0.0   \n",
       "8756                 4.560600           4.557600                    0.0   \n",
       "8757                 2.022000           2.022000                    0.0   \n",
       "8758                 1.668000           1.653000                    0.0   \n",
       "8759                 0.805919           0.805919                    0.0   \n",
       "\n",
       "      BatteryCharge  ElectricityPurchasedWithBattery  SavingsWithBattery  \\\n",
       "0               0.0                         1.509849            0.256674   \n",
       "1               0.0                         1.411859            0.240016   \n",
       "2               0.0                         1.023898            0.174063   \n",
       "3               0.0                         0.642000            0.109140   \n",
       "4               0.0                         0.960000            0.163200   \n",
       "...             ...                              ...                 ...   \n",
       "8755           12.5                        -8.116400           -1.379788   \n",
       "8756           12.5                        -7.942400           -1.350208   \n",
       "8757           12.5                       -10.478000           -1.781260   \n",
       "8758           12.5                       -10.847000           -1.843990   \n",
       "8759           12.5                       -11.694081           -1.987994   \n",
       "\n",
       "      Month  \n",
       "0         1  \n",
       "1         1  \n",
       "2         1  \n",
       "3         1  \n",
       "4         1  \n",
       "...     ...  \n",
       "8755     12  \n",
       "8756     12  \n",
       "8757     12  \n",
       "8758     12  \n",
       "8759     12  \n",
       "\n",
       "[8760 rows x 10 columns]"
      ]
     },
     "execution_count": 12,
     "metadata": {},
     "output_type": "execute_result"
    }
   ],
   "source": [
    "data"
   ]
  },
  {
   "cell_type": "markdown",
   "id": "dfbfe1f0",
   "metadata": {},
   "source": [
    "## Deliverable3\n"
   ]
  },
  {
   "cell_type": "code",
   "execution_count": 13,
   "id": "537a8f0a",
   "metadata": {},
   "outputs": [
    {
     "name": "stdout",
     "output_type": "stream",
     "text": [
      "Requirement already satisfied: numpy-financial in c:\\users\\janem\\anaconda3\\lib\\site-packages (1.0.0)\n",
      "Requirement already satisfied: numpy>=1.15 in c:\\users\\janem\\anaconda3\\lib\\site-packages (from numpy-financial) (1.21.5)\n"
     ]
    }
   ],
   "source": [
    "!pip install numpy-financial\n"
   ]
  },
  {
   "cell_type": "code",
   "execution_count": 14,
   "id": "666a5128",
   "metadata": {},
   "outputs": [
    {
     "data": {
      "text/plain": [
       "Index(['Hour', 'Date/hour start', 'Solar electricity generation (kWh)',\n",
       "       'Electricity usage (kWh)', 'ElectricityNeeded', 'ExcessSolarGeneration',\n",
       "       'BatteryCharge', 'ElectricityPurchasedWithBattery',\n",
       "       'SavingsWithBattery', 'Month'],\n",
       "      dtype='object')"
      ]
     },
     "execution_count": 14,
     "metadata": {},
     "output_type": "execute_result"
    }
   ],
   "source": [
    "data.columns"
   ]
  },
  {
   "cell_type": "code",
   "execution_count": 15,
   "id": "ff25bf7f",
   "metadata": {},
   "outputs": [
    {
     "name": "stdout",
     "output_type": "stream",
     "text": [
      "Scenario 1:\n",
      "Projected Annual Savings: [19322.594876, 20095.49867104, 20899.3186178816, 21735.291362596865, 22604.70301710074, 23508.891137784773, 24449.24678329616, 25427.216654628006, 26444.30532081313, 27502.077533645654, 28602.160634991484, 29746.247060391146, 30936.09694280679, 32173.540820519065, 33460.48245333983, 34798.90175147342, 36190.85782153236, 37638.49213439366, 39144.0318197694, 40709.79309256018]\n",
      "NPV: 329577.82948172715\n",
      "IRR: 2.8003706965561164\n",
      "\n",
      "Scenario 2:\n",
      "Projected Annual Savings: [19369.043421374998, 20192.227766783435, 21050.39744687173, 21945.03933836378, 22877.703510244235, 23850.00590942962, 24863.631160580375, 25920.33548490504, 27021.949743013505, 28170.382607091582, 29367.62386789297, 30615.74788227842, 31916.917167275256, 33273.38614688445, 34687.50505812704, 36161.72402309744, 37698.59729407908, 39300.78767907744, 40971.07115543823, 42712.341679544355]\n",
      "NPV: 337940.4237121231\n",
      "IRR: 2.809506203038229\n"
     ]
    }
   ],
   "source": [
    "\n",
    "import numpy_financial as npf\n",
    "\n",
    "\n",
    "# Calculate savings from installing a battery (for 2020, as previously calculated)\n",
    "data['SavingsWithBattery'] = (data['ElectricityNeeded'] - data['ElectricityPurchasedWithBattery']) * electricity_price\n",
    "\n",
    "# Calculate average annual savings for 2020\n",
    "avg_annual_savings = data['SavingsWithBattery'].sum()\n",
    "\n",
    "# Scenario parameters\n",
    "years = 20\n",
    "initial_cost_battery = 7000  \n",
    "\n",
    "# Electricity price scenarios\n",
    "electricity_price_increase = 0.04  # 4% p.a. increase\n",
    "electricity_price_increase_naomi = 0.0425  # 4% + 0.25% p.a. increase\n",
    "\n",
    "# Calculate projected annual savings for the two scenarios\n",
    "savings_scenario1 = [avg_annual_savings * (1 + electricity_price_increase)**year for year in range(1, years + 1)]\n",
    "savings_scenario2 = [avg_annual_savings * (1 + electricity_price_increase_naomi)**year for year in range(1, years + 1)]\n",
    "\n",
    "# Calculate Net Present Value (NPV) for the two scenarios\n",
    "discount_rate = 0.05  # Example discount rate\n",
    "npv_scenario1 = npf.npv(discount_rate, [-initial_cost_battery] + savings_scenario1)\n",
    "npv_scenario2 = npf.npv(discount_rate, [-initial_cost_battery] + savings_scenario2)\n",
    "\n",
    "# Calculate Internal Rate of Return (IRR) for the two scenarios\n",
    "irr_scenario1 = npf.irr([-initial_cost_battery] + savings_scenario1)\n",
    "irr_scenario2 = npf.irr([-initial_cost_battery] + savings_scenario2)\n",
    "\n",
    "print(\"Scenario 1:\")\n",
    "print(\"Projected Annual Savings:\", savings_scenario1)\n",
    "print(\"NPV:\", npv_scenario1)\n",
    "print(\"IRR:\", irr_scenario1)\n",
    "\n",
    "print(\"\\nScenario 2:\")\n",
    "print(\"Projected Annual Savings:\", savings_scenario2)\n",
    "print(\"NPV:\", npv_scenario2)\n",
    "print(\"IRR:\", irr_scenario2)\n"
   ]
  },
  {
   "cell_type": "markdown",
   "id": "dbd96871",
   "metadata": {},
   "source": [
    "## The end!"
   ]
  }
 ],
 "metadata": {
  "kernelspec": {
   "display_name": "Python 3 (ipykernel)",
   "language": "python",
   "name": "python3"
  },
  "language_info": {
   "codemirror_mode": {
    "name": "ipython",
    "version": 3
   },
   "file_extension": ".py",
   "mimetype": "text/x-python",
   "name": "python",
   "nbconvert_exporter": "python",
   "pygments_lexer": "ipython3",
   "version": "3.9.13"
  }
 },
 "nbformat": 4,
 "nbformat_minor": 5
}
